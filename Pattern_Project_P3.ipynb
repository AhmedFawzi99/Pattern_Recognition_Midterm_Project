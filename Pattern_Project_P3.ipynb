{
 "cells": [
  {
   "cell_type": "code",
   "execution_count": 38,
   "metadata": {},
   "outputs": [],
   "source": [
    "import os\n",
    "import cv2 \n",
    "from os import listdir\n",
    "import csv\n",
    "from sklearn.cluster import KMeans\n",
    "import numpy as np\n",
    "import random\n",
    "import matplotlib.pyplot as pyplot\n",
    "from sklearn.svm import SVC\n",
    "import joblib"
   ]
  },
  {
   "cell_type": "code",
   "execution_count": 3,
   "metadata": {},
   "outputs": [],
   "source": [
    "# to load the data sampels enter the pathes of the folders\n",
    "\n",
    "back='/Users/modyf/Desktop/prob3/SVM_Segmentation/background/'\n",
    "inner='/Users/modyf/Desktop/prob3/SVM_Segmentation/inner_cell/'\n",
    "outer='/Users/modyf/Desktop/prob3/SVM_Segmentation/outer_cell/'\n",
    "\n",
    "backa = []  \n",
    "            \n",
    "for dirName, subdirList, fileList in os.walk(back):\n",
    "    for filename in fileList:\n",
    "        if \".jpg\" in filename.lower():  # check whether the file's DICOM\n",
    "            namedir=[os.path.splitext(filename)[0],os.path.join(dirName,filename)]\n",
    "            backa.append(namedir)\n",
    "\n",
    "outera = []  # create an empty list\n",
    "\n",
    "for dirName, subdirList, fileList in os.walk(outer):\n",
    "    for filename in fileList:\n",
    "        if \".jpg\" in filename.lower():  # check whether the file's DICOM\n",
    "            namedir=[os.path.splitext(filename)[0],os.path.join(dirName,filename)]\n",
    "            outera.append(namedir)\n",
    "            \n",
    "innera = []  # create an empty list\n",
    "\n",
    "for dirName, subdirList, fileList in os.walk(inner):\n",
    "    for filename in fileList:\n",
    "        if \".jpg\" in filename.lower():  # check whether the file's DICOM\n",
    "            namedir=[os.path.splitext(filename)[0],os.path.join(dirName,filename)]\n",
    "            innera.append(namedir)"
   ]
  },
  {
   "cell_type": "code",
   "execution_count": 4,
   "metadata": {},
   "outputs": [
    {
     "name": "stdout",
     "output_type": "stream",
     "text": [
      "[['001', '/Users/modyf/Desktop/prob3/SVM_Segmentation/background/001.JPG'], ['002', '/Users/modyf/Desktop/prob3/SVM_Segmentation/background/002.JPG'], ['003', '/Users/modyf/Desktop/prob3/SVM_Segmentation/background/003.JPG'], ['004', '/Users/modyf/Desktop/prob3/SVM_Segmentation/background/004.JPG'], ['005', '/Users/modyf/Desktop/prob3/SVM_Segmentation/background/005.JPG'], ['006', '/Users/modyf/Desktop/prob3/SVM_Segmentation/background/006.JPG'], ['007', '/Users/modyf/Desktop/prob3/SVM_Segmentation/background/007.JPG'], ['008', '/Users/modyf/Desktop/prob3/SVM_Segmentation/background/008.JPG'], ['009', '/Users/modyf/Desktop/prob3/SVM_Segmentation/background/009.JPG'], ['010', '/Users/modyf/Desktop/prob3/SVM_Segmentation/background/010.JPG'], ['011', '/Users/modyf/Desktop/prob3/SVM_Segmentation/background/011.JPG'], ['012', '/Users/modyf/Desktop/prob3/SVM_Segmentation/background/012.JPG'], ['013', '/Users/modyf/Desktop/prob3/SVM_Segmentation/background/013.JPG'], ['014', '/Users/modyf/Desktop/prob3/SVM_Segmentation/background/014.JPG'], ['015', '/Users/modyf/Desktop/prob3/SVM_Segmentation/background/015.JPG'], ['016', '/Users/modyf/Desktop/prob3/SVM_Segmentation/background/016.JPG'], ['017', '/Users/modyf/Desktop/prob3/SVM_Segmentation/background/017.JPG'], ['018', '/Users/modyf/Desktop/prob3/SVM_Segmentation/background/018.JPG'], ['019', '/Users/modyf/Desktop/prob3/SVM_Segmentation/background/019.JPG'], ['020', '/Users/modyf/Desktop/prob3/SVM_Segmentation/background/020.JPG'], ['021', '/Users/modyf/Desktop/prob3/SVM_Segmentation/background/021.JPG'], ['022', '/Users/modyf/Desktop/prob3/SVM_Segmentation/background/022.JPG'], ['023', '/Users/modyf/Desktop/prob3/SVM_Segmentation/background/023.JPG'], ['024', '/Users/modyf/Desktop/prob3/SVM_Segmentation/background/024.JPG'], ['025', '/Users/modyf/Desktop/prob3/SVM_Segmentation/background/025.JPG'], ['026', '/Users/modyf/Desktop/prob3/SVM_Segmentation/background/026.JPG'], ['027', '/Users/modyf/Desktop/prob3/SVM_Segmentation/background/027.JPG'], ['028', '/Users/modyf/Desktop/prob3/SVM_Segmentation/background/028.JPG'], ['029', '/Users/modyf/Desktop/prob3/SVM_Segmentation/background/029.JPG'], ['030', '/Users/modyf/Desktop/prob3/SVM_Segmentation/background/030.JPG']]\n",
      "(65, 65, 3)\n",
      "(4225, 3)\n",
      "(65, 65, 3)\n",
      "(4225, 3)\n",
      "(65, 65, 3)\n",
      "(4225, 3)\n",
      "(65, 65, 3)\n",
      "(4225, 3)\n",
      "(65, 65, 3)\n",
      "(4225, 3)\n",
      "(65, 65, 3)\n",
      "(4225, 3)\n",
      "(65, 65, 3)\n",
      "(4225, 3)\n",
      "(65, 65, 3)\n",
      "(4225, 3)\n",
      "(65, 65, 3)\n",
      "(4225, 3)\n",
      "(65, 65, 3)\n",
      "(4225, 3)\n",
      "(65, 65, 3)\n",
      "(4225, 3)\n",
      "(65, 65, 3)\n",
      "(4225, 3)\n",
      "(65, 65, 3)\n",
      "(4225, 3)\n",
      "(65, 65, 3)\n",
      "(4225, 3)\n",
      "(65, 65, 3)\n",
      "(4225, 3)\n",
      "(65, 65, 3)\n",
      "(4225, 3)\n",
      "(65, 65, 3)\n",
      "(4225, 3)\n",
      "(65, 65, 3)\n",
      "(4225, 3)\n",
      "(65, 65, 3)\n",
      "(4225, 3)\n",
      "(65, 65, 3)\n",
      "(4225, 3)\n",
      "(65, 65, 3)\n",
      "(4225, 3)\n",
      "(65, 65, 3)\n",
      "(4225, 3)\n",
      "(65, 65, 3)\n",
      "(4225, 3)\n",
      "(65, 65, 3)\n",
      "(4225, 3)\n",
      "(65, 65, 3)\n",
      "(4225, 3)\n",
      "(65, 65, 3)\n",
      "(4225, 3)\n",
      "(65, 65, 3)\n",
      "(4225, 3)\n",
      "(65, 65, 3)\n",
      "(4225, 3)\n",
      "(65, 65, 3)\n",
      "(4225, 3)\n",
      "(65, 65, 3)\n",
      "(4225, 3)\n",
      "(65, 65, 3)\n",
      "(4225, 3)\n",
      "(65, 65, 3)\n",
      "(4225, 3)\n",
      "(65, 65, 3)\n",
      "(4225, 3)\n",
      "(65, 65, 3)\n",
      "(4225, 3)\n",
      "(65, 65, 3)\n",
      "(4225, 3)\n",
      "(65, 65, 3)\n",
      "(4225, 3)\n",
      "(65, 65, 3)\n",
      "(4225, 3)\n",
      "(65, 65, 3)\n",
      "(4225, 3)\n",
      "(65, 65, 3)\n",
      "(4225, 3)\n",
      "(65, 65, 3)\n",
      "(4225, 3)\n",
      "(65, 65, 3)\n",
      "(4225, 3)\n",
      "(65, 65, 3)\n",
      "(4225, 3)\n",
      "(65, 65, 3)\n",
      "(4225, 3)\n",
      "(65, 65, 3)\n",
      "(4225, 3)\n",
      "(65, 65, 3)\n",
      "(4225, 3)\n",
      "(65, 65, 3)\n",
      "(4225, 3)\n",
      "(65, 65, 3)\n",
      "(4225, 3)\n",
      "(65, 65, 3)\n",
      "(4225, 3)\n",
      "(65, 65, 3)\n",
      "(4225, 3)\n",
      "(65, 65, 3)\n",
      "(4225, 3)\n",
      "(65, 65, 3)\n",
      "(4225, 3)\n",
      "(65, 65, 3)\n",
      "(4225, 3)\n",
      "(65, 65, 3)\n",
      "(4225, 3)\n",
      "(65, 65, 3)\n",
      "(4225, 3)\n",
      "(65, 65, 3)\n",
      "(4225, 3)\n",
      "(65, 65, 3)\n",
      "(4225, 3)\n",
      "(65, 65, 3)\n",
      "(4225, 3)\n",
      "(65, 65, 3)\n",
      "(4225, 3)\n",
      "(65, 65, 3)\n",
      "(4225, 3)\n",
      "(65, 65, 3)\n",
      "(4225, 3)\n",
      "(65, 65, 3)\n",
      "(4225, 3)\n",
      "(65, 65, 3)\n",
      "(4225, 3)\n",
      "(65, 65, 3)\n",
      "(4225, 3)\n",
      "(65, 65, 3)\n",
      "(4225, 3)\n",
      "(65, 65, 3)\n",
      "(4225, 3)\n",
      "(65, 65, 3)\n",
      "(4225, 3)\n",
      "(65, 65, 3)\n",
      "(4225, 3)\n",
      "(65, 65, 3)\n",
      "(4225, 3)\n",
      "(65, 65, 3)\n",
      "(4225, 3)\n",
      "(65, 65, 3)\n",
      "(4225, 3)\n",
      "(65, 65, 3)\n",
      "(4225, 3)\n",
      "(65, 65, 3)\n",
      "(4225, 3)\n",
      "(65, 65, 3)\n",
      "(4225, 3)\n",
      "(65, 65, 3)\n",
      "(4225, 3)\n",
      "(65, 65, 3)\n",
      "(4225, 3)\n",
      "(65, 65, 3)\n",
      "(4225, 3)\n",
      "(65, 65, 3)\n",
      "(4225, 3)\n",
      "(65, 65, 3)\n",
      "(4225, 3)\n",
      "(65, 65, 3)\n",
      "(4225, 3)\n",
      "(65, 65, 3)\n",
      "(4225, 3)\n",
      "(65, 65, 3)\n",
      "(4225, 3)\n",
      "(65, 65, 3)\n",
      "(4225, 3)\n",
      "(65, 65, 3)\n",
      "(4225, 3)\n",
      "(65, 65, 3)\n",
      "(4225, 3)\n",
      "(65, 65, 3)\n",
      "(4225, 3)\n",
      "(65, 65, 3)\n",
      "(4225, 3)\n",
      "(65, 65, 3)\n",
      "(4225, 3)\n",
      "(65, 65, 3)\n",
      "(4225, 3)\n",
      "(65, 65, 3)\n",
      "(4225, 3)\n",
      "(65, 65, 3)\n",
      "(4225, 3)\n"
     ]
    }
   ],
   "source": [
    "#Generate the labels for each data sample(background,inner_cell,outer_cell)\n",
    "#we insert the pixels in order each data sample grouped together\n",
    "#with each pixel read we insert a label of (0) if it is background,(1) if it is outer_cell,(2) if it is inner_cell\n",
    "#generate pixel_list(X_Train) during each itration from different data sample (background,inner_cell,outer_cell)\n",
    "pixel_list=[]\n",
    "Labels = [ ]\n",
    "dim=(65,65)\n",
    "for i in range(len(backa)):\n",
    "    img = cv2.imread(backa[i][1])\n",
    "    img = cv2.cvtColor(img, cv2.COLOR_BGR2RGB)\n",
    "    img=cv2.resize(img, dim, interpolation = cv2.INTER_AREA)\n",
    "    img=img.reshape(-1,3)     \n",
    "    for i in img:\n",
    "        pixel_list.append(i/255)\n",
    "        Labels.append(0)\n",
    "\n",
    "for i in range(len(outera)):\n",
    "    img = cv2.imread(outera[i][1])\n",
    "    img = cv2.cvtColor(img, cv2.COLOR_BGR2RGB)\n",
    "    img=cv2.resize(img, dim, interpolation = cv2.INTER_AREA)\n",
    "    img=img.reshape(-1,3)     \n",
    "    for i in img:\n",
    "        pixel_list.append(i/255)\n",
    "        Labels.append(1)\n",
    "\n",
    "for i in range(len(innera)):\n",
    "    img = cv2.imread(innera[i][1])\n",
    "    img = cv2.cvtColor(img, cv2.COLOR_BGR2RGB)\n",
    "    img=cv2.resize(img, dim, interpolation = cv2.INTER_AREA)\n",
    "    img=img.reshape(-1,3)     \n",
    "    for i in img:\n",
    "        pixel_list.append(i/255)\n",
    "        Labels.append(2)"
   ]
  },
  {
   "cell_type": "code",
   "execution_count": 33,
   "metadata": {},
   "outputs": [
    {
     "name": "stdout",
     "output_type": "stream",
     "text": [
      "(65, 65, 3)\n",
      "(4225, 3)\n"
     ]
    }
   ],
   "source": [
    "#Test Image\n",
    "## to load the test image enter the path of the test image\n",
    "path='/Users/modyf/Desktop/Pattern Midterm/segmentation_WBC-master/Dataset_1/002.bmp'\n",
    "img = cv2.imread(path)\n",
    "list_1=[]\n",
    "\n",
    "img = cv2.cvtColor(img, cv2.COLOR_BGR2RGB)\n",
    "img=cv2.resize(img, dim, interpolation = cv2.INTER_AREA)\n",
    "xsize=int(img.shape[0])\n",
    "ysize=int(img.shape[1])\n",
    "    \n",
    "img=img.reshape(-1,3)     \n",
    "for i in img:\n",
    "    list_1.append(i/255)"
   ]
  },
  {
   "cell_type": "code",
   "execution_count": 26,
   "metadata": {},
   "outputs": [
    {
     "data": {
      "text/plain": [
       "SVC(kernel='linear')"
      ]
     },
     "execution_count": 26,
     "metadata": {},
     "output_type": "execute_result"
    }
   ],
   "source": [
    "#using SVC lib fit pixel_list with Labels\n",
    "svclassifier = SVC(kernel='linear')\n",
    "svclassifier.fit(pixel_list, Labels) #pixel_list= X_Train"
   ]
  },
  {
   "cell_type": "code",
   "execution_count": 34,
   "metadata": {},
   "outputs": [],
   "source": [
    "y_pred = svclassifier.predict(list_1)"
   ]
  },
  {
   "cell_type": "code",
   "execution_count": 35,
   "metadata": {
    "scrolled": true
   },
   "outputs": [
    {
     "data": {
      "text/plain": [
       "array([0, 0, 0, ..., 0, 0, 0])"
      ]
     },
     "execution_count": 35,
     "metadata": {},
     "output_type": "execute_result"
    }
   ],
   "source": [
    "unique, counts = np.unique(y_pred, return_counts=True, axis = 0)\n",
    "\n",
    "print (np.asarray((unique, counts)).T)"
   ]
  },
  {
   "cell_type": "code",
   "execution_count": 36,
   "metadata": {},
   "outputs": [
    {
     "name": "stderr",
     "output_type": "stream",
     "text": [
      "C:\\Users\\modyf\\anaconda3\\lib\\site-packages\\numpy\\core\\fromnumeric.py:3372: RuntimeWarning: Mean of empty slice.\n",
      "  return _methods._mean(a, axis=axis, dtype=dtype,\n",
      "C:\\Users\\modyf\\anaconda3\\lib\\site-packages\\numpy\\core\\_methods.py:170: RuntimeWarning: invalid value encountered in double_scalars\n",
      "  ret = ret.dtype.type(ret / rcount)\n"
     ]
    }
   ],
   "source": [
    "#checking y_pred values \n",
    "#if y_pred=0 take the corresponding pixel in test image and append it in the background list \n",
    "#if y_pred=1 take the corresponding pixel in test image and append it in the outer_cell list \n",
    "#if y_pred=2 take the corresponding pixel in test image and append it in the inner_cell list \n",
    "# then get the mean of these lists\n",
    "Back_list=[]\n",
    "inner_list=[]\n",
    "outer_list=[]\n",
    "\n",
    "for i in range(len(list_1)):\n",
    "  \n",
    "    if(y_pred[i] ==0):\n",
    "        Back_list.append(list_1[i])\n",
    "    if(y_pred[i] ==1):\n",
    "        outer_list.append(list_1[i])\n",
    "    if(y_pred[i] ==2):\n",
    "        inner_list.append(list_1[i])\n",
    "        \n",
    "    back_pix=np.mean(Back_list, axis=0)\n",
    "    inner_pix=np.mean(inner_list, axis=0)\n",
    "    outer_pix=np.mean(outer_list, axis=0)\n"
   ]
  },
  {
   "cell_type": "code",
   "execution_count": 37,
   "metadata": {},
   "outputs": [
    {
     "data": {
      "text/plain": [
       "<matplotlib.image.AxesImage at 0x21a801fea60>"
      ]
     },
     "execution_count": 37,
     "metadata": {},
     "output_type": "execute_result"
    },
    {
     "data": {
      "image/png": "[encoded data removed]",
      "text/plain": [
       "<Figure size 432x288 with 1 Axes>"
      ]
     },
     "metadata": {
      "needs_background": "light"
     },
     "output_type": "display_data"
    }
   ],
   "source": [
    "#Draw the output image \n",
    "output = np.zeros((xsize,ysize,3),dtype=np.uint8)\n",
    "inc=0\n",
    "for i in range(xsize):\n",
    "    for j in range(ysize):\n",
    "        if(y_pred[inc]==0):\n",
    "            output[i,j]=back_pix *255\n",
    "\n",
    "        if(y_pred[inc]==1):\n",
    "            output[i,j]= outer_pix*255\n",
    "\n",
    "        if(y_pred[inc]==2):\n",
    "            output[i,j]=inner_pix *255\n",
    "\n",
    "        inc+=1   \n",
    "            \n",
    "plt.imshow(output)\n"
   ]
  },
  {
   "cell_type": "code",
   "execution_count": 40,
   "metadata": {},
   "outputs": [
    {
     "data": {
      "text/plain": [
       "['P3_model.sav']"
      ]
     },
     "execution_count": 40,
     "metadata": {},
     "output_type": "execute_result"
    }
   ],
   "source": [
    "#saving model\n",
    "filename = 'P3_model.sav'\n",
    "joblib.dump(svclassifier, filename)"
   ]
  },
  {
   "cell_type": "code",
   "execution_count": 42,
   "metadata": {},
   "outputs": [
    {
     "data": {
      "text/plain": [
       "array([0, 0, 0, ..., 0, 0, 0])"
      ]
     },
     "execution_count": 42,
     "metadata": {},
     "output_type": "execute_result"
    }
   ],
   "source": [
    "#loading model\n",
    "loaded_model = joblib.load(filename)\n",
    "loaded_model.predict(list_1)"
   ]
  }
 ],
 "metadata": {
  "kernelspec": {
   "display_name": "Python 3",
   "language": "python",
   "name": "python3"
  },
  "language_info": {
   "codemirror_mode": {
    "name": "ipython",
    "version": 3
   },
   "file_extension": ".py",
   "mimetype": "text/x-python",
   "name": "python",
   "nbconvert_exporter": "python",
   "pygments_lexer": "ipython3",
   "version": "3.8.3"
  }
 },
 "nbformat": 4,
 "nbformat_minor": 4
}